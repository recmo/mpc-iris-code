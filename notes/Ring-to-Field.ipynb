{
 "cells": [
  {
   "cell_type": "markdown",
   "metadata": {},
   "source": [
    "## Ring to field.\n",
    "\n",
    "Experiments to convert a secret in $ℤ_{2^k}$ to one in $𝔽_{2^{k + n}}$ with identical bit expressions.\n",
    "\n",
    "* Try for $k=2$ case first.\n",
    "* Try different mappings $ℤ_{2^k} → 𝔽_{2^k}$."
   ]
  },
  {
   "cell_type": "code",
   "execution_count": 10,
   "metadata": {
    "vscode": {
     "languageId": "python"
    }
   },
   "outputs": [],
   "source": [
    "def irreducible(degree, field = GF(2)):\n",
    "    R.<x> = PolynomialRing(GF(2))\n",
    "    for p in factor(x**(2**degree) - x):\n",
    "        p, _ = p\n",
    "        if p.degree() == degree:\n",
    "            yield p"
   ]
  },
  {
   "cell_type": "code",
   "execution_count": 12,
   "metadata": {
    "vscode": {
     "languageId": "python"
    }
   },
   "outputs": [],
   "source": [
    "# List all irreducible polynomials of degree k in GF(2)\n",
    "k = 6\n",
    "\n",
    "moduli = list(irreducible(k))\n"
   ]
  },
  {
   "cell_type": "code",
   "execution_count": 13,
   "metadata": {
    "vscode": {
     "languageId": "python"
    }
   },
   "outputs": [
    {
     "data": {
      "text/plain": [
       "[x^6 + x + 1,\n",
       " x^6 + x^3 + 1,\n",
       " x^6 + x^4 + x^2 + x + 1,\n",
       " x^6 + x^4 + x^3 + x + 1,\n",
       " x^6 + x^5 + 1,\n",
       " x^6 + x^5 + x^2 + x + 1,\n",
       " x^6 + x^5 + x^3 + x^2 + 1,\n",
       " x^6 + x^5 + x^4 + x + 1,\n",
       " x^6 + x^5 + x^4 + x^2 + 1]"
      ]
     },
     "execution_count": 13,
     "metadata": {},
     "output_type": "execute_result"
    }
   ],
   "source": [
    "moduli"
   ]
  },
  {
   "cell_type": "code",
   "execution_count": 22,
   "metadata": {
    "vscode": {
     "languageId": "python"
    }
   },
   "outputs": [
    {
     "name": "stdout",
     "output_type": "stream",
     "text": [
      "[0, 1, b, b + 1, b^2, b^2 + 1, b^2 + b, b^2 + b + 1, b^3, b^3 + 1, b^3 + b, b^3 + b + 1, b^3 + b^2, b^3 + b^2 + 1, b^3 + b^2 + b, b^3 + b^2 + b + 1, b^4, b^4 + 1, b^4 + b, b^4 + b + 1, b^4 + b^2, b^4 + b^2 + 1, b^4 + b^2 + b, b^4 + b^2 + b + 1, b^4 + b^3, b^4 + b^3 + 1, b^4 + b^3 + b, b^4 + b^3 + b + 1, b^4 + b^3 + b^2, b^4 + b^3 + b^2 + 1, b^4 + b^3 + b^2 + b, b^4 + b^3 + b^2 + b + 1, b^5, b^5 + 1, b^5 + b, b^5 + b + 1, b^5 + b^2, b^5 + b^2 + 1, b^5 + b^2 + b, b^5 + b^2 + b + 1, b^5 + b^3, b^5 + b^3 + 1, b^5 + b^3 + b, b^5 + b^3 + b + 1, b^5 + b^3 + b^2, b^5 + b^3 + b^2 + 1, b^5 + b^3 + b^2 + b, b^5 + b^3 + b^2 + b + 1, b^5 + b^4, b^5 + b^4 + 1, b^5 + b^4 + b, b^5 + b^4 + b + 1, b^5 + b^4 + b^2, b^5 + b^4 + b^2 + 1, b^5 + b^4 + b^2 + b, b^5 + b^4 + b^2 + b + 1, b^5 + b^4 + b^3, b^5 + b^4 + b^3 + 1, b^5 + b^4 + b^3 + b, b^5 + b^4 + b^3 + b + 1, b^5 + b^4 + b^3 + b^2, b^5 + b^4 + b^3 + b^2 + 1, b^5 + b^4 + b^3 + b^2 + b, b^5 + b^4 + b^3 + b^2 + b + 1]\n"
     ]
    }
   ],
   "source": [
    "F.<b> = GF(2**k, 'b', modulus=moduli[0])\n",
    "values = []\n",
    "for i in range(2**k):\n",
    "    value = 0\n",
    "    for j in range(k):\n",
    "        if i & 2**j != 0:\n",
    "            value += b**j\n",
    "    values.append(value)\n",
    "\n",
    "assert set(values) == set(F)\n",
    "\n",
    "print(values)"
   ]
  },
  {
   "cell_type": "code",
   "execution_count": 23,
   "metadata": {
    "vscode": {
     "languageId": "python"
    }
   },
   "outputs": [
    {
     "data": {
      "text/plain": [
       "Multivariate Polynomial Ring in x, y over Finite Field in b of size 2^6"
      ]
     },
     "execution_count": 23,
     "metadata": {},
     "output_type": "execute_result"
    }
   ],
   "source": [
    "# The ring of bivariate polynomials over GF(2**k)\n",
    "P.<x, y> = PolynomialRing(F, 2)\n",
    "\n",
    "P"
   ]
  },
  {
   "cell_type": "code",
   "execution_count": 17,
   "metadata": {
    "vscode": {
     "languageId": "python"
    }
   },
   "outputs": [],
   "source": [
    "def add_func(perm):\n",
    "    x = []\n",
    "    y = []\n",
    "    for a in range(2**k):\n",
    "        for b in range(2**k):\n",
    "            x.append((perm[a], perm[b]))\n",
    "            c = (a + b) % 2**k\n",
    "            y.append(values[c])\n",
    "    f = P.interpolation(12, x, y)\n",
    "    return factor(f)"
   ]
  },
  {
   "cell_type": "code",
   "execution_count": 18,
   "metadata": {
    "vscode": {
     "languageId": "python"
    }
   },
   "outputs": [
    {
     "ename": "ValueError",
     "evalue": "Could not find a solution.",
     "output_type": "error",
     "traceback": [
      "\u001b[0;31m---------------------------------------------------------------------------\u001b[0m",
      "\u001b[0;31mValueError\u001b[0m                                Traceback (most recent call last)",
      "File \u001b[0;32m/private/var/tmp/sage-10.2-current/local/var/lib/sage/venv-python3.11.1/lib/python3.11/site-packages/sage/matrix/matrix2.pyx:449\u001b[0m, in \u001b[0;36msage.matrix.matrix2.Matrix.solve_left (build/cythonized/sage/matrix/matrix2.c:13353)\u001b[0;34m()\u001b[0m\n\u001b[1;32m    448\u001b[0m try:\n\u001b[0;32m--> 449\u001b[0m     return self.transpose().solve_right(B, check=check)\n\u001b[1;32m    450\u001b[0m except ValueError as e:\n",
      "File \u001b[0;32m/private/var/tmp/sage-10.2-current/local/var/lib/sage/venv-python3.11.1/lib/python3.11/site-packages/sage/matrix/matrix2.pyx:939\u001b[0m, in \u001b[0;36msage.matrix.matrix2.Matrix.solve_right (build/cythonized/sage/matrix/matrix2.c:16094)\u001b[0;34m()\u001b[0m\n\u001b[1;32m    938\u001b[0m if not self.is_square():\n\u001b[0;32m--> 939\u001b[0m     X = self._solve_right_general(C, check=check)\n\u001b[1;32m    940\u001b[0m else:\n",
      "File \u001b[0;32m/private/var/tmp/sage-10.2-current/local/var/lib/sage/venv-python3.11.1/lib/python3.11/site-packages/sage/matrix/matrix2.pyx:1062\u001b[0m, in \u001b[0;36msage.matrix.matrix2.Matrix._solve_right_general (build/cythonized/sage/matrix/matrix2.c:17642)\u001b[0;34m()\u001b[0m\n\u001b[1;32m   1061\u001b[0m     if self*X != B:\n\u001b[0;32m-> 1062\u001b[0m         raise ValueError(\"matrix equation has no solutions\")\n\u001b[1;32m   1063\u001b[0m return X\n",
      "\u001b[0;31mValueError\u001b[0m: matrix equation has no solutions",
      "\nDuring handling of the above exception, another exception occurred:\n",
      "\u001b[0;31mValueError\u001b[0m                                Traceback (most recent call last)",
      "File \u001b[0;32m/private/var/tmp/sage-10.2-current/local/var/lib/sage/venv-python3.11.1/lib/python3.11/site-packages/sage/rings/polynomial/multi_polynomial_ring_base.pyx:506\u001b[0m, in \u001b[0;36msage.rings.polynomial.multi_polynomial_ring_base.MPolynomialRing_base.interpolation (build/cythonized/sage/rings/polynomial/multi_polynomial_ring_base.c:13220)\u001b[0;34m()\u001b[0m\n\u001b[1;32m    505\u001b[0m try:\n\u001b[0;32m--> 506\u001b[0m     coeff = M.solve_left(vector(R, values))\n\u001b[1;32m    507\u001b[0m except ValueError:\n",
      "File \u001b[0;32m/private/var/tmp/sage-10.2-current/local/var/lib/sage/venv-python3.11.1/lib/python3.11/site-packages/sage/matrix/matrix2.pyx:451\u001b[0m, in \u001b[0;36msage.matrix.matrix2.Matrix.solve_left (build/cythonized/sage/matrix/matrix2.c:13436)\u001b[0;34m()\u001b[0m\n\u001b[1;32m    450\u001b[0m     except ValueError as e:\n\u001b[0;32m--> 451\u001b[0m         raise e.__class__(str(e).replace('row', 'column'))\n\u001b[1;32m    452\u001b[0m else:\n",
      "\u001b[0;31mValueError\u001b[0m: matrix equation has no solutions",
      "\nDuring handling of the above exception, another exception occurred:\n",
      "\u001b[0;31mValueError\u001b[0m                                Traceback (most recent call last)",
      "Cell \u001b[0;32mIn [18], line 4\u001b[0m\n\u001b[1;32m      1\u001b[0m \u001b[38;5;28;01mfrom\u001b[39;00m \u001b[38;5;21;01mitertools\u001b[39;00m \u001b[38;5;28;01mimport\u001b[39;00m permutations\n\u001b[1;32m      3\u001b[0m \u001b[38;5;28;01mfor\u001b[39;00m perm \u001b[38;5;129;01min\u001b[39;00m permutations(values):\n\u001b[0;32m----> 4\u001b[0m     \u001b[38;5;28mprint\u001b[39m(\u001b[43madd_func\u001b[49m\u001b[43m(\u001b[49m\u001b[43mperm\u001b[49m\u001b[43m)\u001b[49m)\n",
      "Cell \u001b[0;32mIn [17], line 9\u001b[0m, in \u001b[0;36madd_func\u001b[0;34m(perm)\u001b[0m\n\u001b[1;32m      7\u001b[0m         c \u001b[38;5;241m=\u001b[39m (a \u001b[38;5;241m+\u001b[39m b) \u001b[38;5;241m%\u001b[39m Integer(\u001b[38;5;241m2\u001b[39m)\u001b[38;5;241m*\u001b[39m\u001b[38;5;241m*\u001b[39mk\n\u001b[1;32m      8\u001b[0m         y\u001b[38;5;241m.\u001b[39mappend(values[c])\n\u001b[0;32m----> 9\u001b[0m f \u001b[38;5;241m=\u001b[39m P\u001b[38;5;241m.\u001b[39minterpolation(Integer(\u001b[38;5;241m12\u001b[39m), x, y)\n\u001b[1;32m     10\u001b[0m \u001b[38;5;28;01mreturn\u001b[39;00m factor(f)\n",
      "File \u001b[0;32m/private/var/tmp/sage-10.2-current/local/var/lib/sage/venv-python3.11.1/lib/python3.11/site-packages/sage/rings/polynomial/multi_polynomial_ring_base.pyx:508\u001b[0m, in \u001b[0;36msage.rings.polynomial.multi_polynomial_ring_base.MPolynomialRing_base.interpolation (build/cythonized/sage/rings/polynomial/multi_polynomial_ring_base.c:13277)\u001b[0;34m()\u001b[0m\n\u001b[1;32m    506\u001b[0m     coeff = M.solve_left(vector(R, values))\n\u001b[1;32m    507\u001b[0m except ValueError:\n\u001b[0;32m--> 508\u001b[0m     raise ValueError('Could not find a solution.')\n\u001b[1;32m    509\u001b[0m solution = sum(coeff[i] * self.monomial(*exponents_space[i]) for i in range(len(exponents_space)))\n\u001b[1;32m    510\u001b[0m \n",
      "\u001b[0;31mValueError\u001b[0m: Could not find a solution."
     ]
    }
   ],
   "source": [
    "from itertools import permutations\n",
    "\n",
    "for perm in permutations(values):\n",
    "    print(add_func(perm))"
   ]
  },
  {
   "cell_type": "code",
   "execution_count": null,
   "metadata": {
    "vscode": {
     "languageId": "python"
    }
   },
   "outputs": [],
   "source": []
  },
  {
   "cell_type": "code",
   "execution_count": null,
   "metadata": {
    "vscode": {
     "languageId": "python"
    }
   },
   "outputs": [],
   "source": []
  }
 ],
 "metadata": {
  "kernelspec": {
   "display_name": "SageMath 10.2",
   "language": "sage",
   "name": "SageMath-10.2"
  },
  "language_info": {
   "codemirror_mode": {
    "name": "ipython",
    "version": 3
   },
   "file_extension": ".py",
   "mimetype": "text/x-python",
   "name": "sage",
   "nbconvert_exporter": "python",
   "pygments_lexer": "ipython3",
   "version": "3.11.1"
  }
 },
 "nbformat": 4,
 "nbformat_minor": 2
}
