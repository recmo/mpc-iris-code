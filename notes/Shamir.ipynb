{
 "cells": [
  {
   "cell_type": "code",
   "execution_count": 38,
   "metadata": {},
   "outputs": [
    {
     "data": {
      "text/plain": [
       "Ring of integers modulo 65536"
      ]
     },
     "execution_count": 38,
     "metadata": {},
     "output_type": "execute_result"
    }
   ],
   "source": [
    "U16 = Integers(2**16)\n",
    "U16"
   ]
  },
  {
   "cell_type": "code",
   "execution_count": 39,
   "metadata": {},
   "outputs": [],
   "source": [
    "def Vandermonde(xs, ncols=None, ring=None):\n",
    "    nrows = len(xs)\n",
    "    ncols = ncols or nrows\n",
    "    ring = ring or xs[0].parent()\n",
    "    M = zero_matrix(ring, nrows=nrows, ncols=ncols)\n",
    "    for i in range(nrows):\n",
    "        for j in range(ncols):\n",
    "            M[i,j] = ring(xs[i])**j\n",
    "    return M"
   ]
  },
  {
   "cell_type": "code",
   "execution_count": 40,
   "metadata": {},
   "outputs": [],
   "source": [
    "def Langrange(xas, xbs, ring=None):\n",
    "    '''Lagrange interpolation basis conversion from basis xas to basis xbs.'''\n",
    "    ncols = len(xas)\n",
    "    nrows = len(xbs)\n",
    "    ring = ring or xas[0].parent()\n",
    "    M = zero_matrix(ring, nrows=nrows, ncols=ncols)\n",
    "    for i in range(nrows):\n",
    "        for j in range(ncols):\n",
    "            p = ring(1)\n",
    "            q = ring(1)\n",
    "            for k in range(ncols):\n",
    "                if k == j:\n",
    "                    continue\n",
    "                p *= (xbs[i] - xas[k])\n",
    "                q *= (xas[j] - xas[k])\n",
    "            M[i,j] = p / q\n",
    "    return M"
   ]
  },
  {
   "cell_type": "code",
   "execution_count": 41,
   "metadata": {},
   "outputs": [],
   "source": [
    "def pseudoinverse(M):\n",
    "    if M.nrows() == M.ncols():\n",
    "        return M.inverse()\n",
    "    elif M.nrows() <= M.ncols():\n",
    "        return M.T * (M * M.T).inverse()\n",
    "    else:\n",
    "        return (M.T * M).inverse() * M.T"
   ]
  },
  {
   "cell_type": "code",
   "execution_count": 42,
   "metadata": {},
   "outputs": [],
   "source": [
    "def additive(n, ring):\n",
    "    return Matrix(ring, [1] * n)"
   ]
  },
  {
   "cell_type": "code",
   "execution_count": 56,
   "metadata": {},
   "outputs": [
    {
     "data": {
      "text/plain": [
       "[1 1]"
      ]
     },
     "execution_count": 56,
     "metadata": {},
     "output_type": "execute_result"
    }
   ],
   "source": [
    "D = additive(2, Integers(2))\n",
    "D"
   ]
  },
  {
   "cell_type": "code",
   "execution_count": 57,
   "metadata": {},
   "outputs": [],
   "source": [
    "def complete(D):\n",
    "    K = D.right_kernel().matrix()\n",
    "    return block_matrix([[D], [K]])"
   ]
  },
  {
   "cell_type": "markdown",
   "metadata": {},
   "source": []
  },
  {
   "cell_type": "code",
   "execution_count": 77,
   "metadata": {},
   "outputs": [
    {
     "data": {
      "text/plain": [
       "[1 0]\n",
       "[1 1]"
      ]
     },
     "execution_count": 77,
     "metadata": {},
     "output_type": "execute_result"
    }
   ],
   "source": [
    "Matrix(Integers(2), [[1, 0], [1, 1]])"
   ]
  },
  {
   "cell_type": "code",
   "execution_count": 67,
   "metadata": {},
   "outputs": [
    {
     "data": {
      "text/plain": [
       "[0]\n",
       "[-]\n",
       "[0]"
      ]
     },
     "execution_count": 67,
     "metadata": {},
     "output_type": "execute_result"
    }
   ],
   "source": [
    "complete(D) * Matrix([[1, 1]]).T"
   ]
  },
  {
   "cell_type": "code",
   "execution_count": 70,
   "metadata": {},
   "outputs": [
    {
     "name": "stdout",
     "output_type": "stream",
     "text": [
      "0 0 0\n",
      "1 0 1\n",
      "2 1 1\n",
      "3 3 2\n",
      "4 6 2\n",
      "5 10 3\n",
      "6 15 3\n",
      "7 21 4\n",
      "8 28 4\n",
      "9 36 5\n",
      "10 45 5\n"
     ]
    }
   ],
   "source": [
    "for k in range(11):\n",
    "    print(k, k * (k-1) / 2, ceil(k / 2))"
   ]
  },
  {
   "cell_type": "code",
   "execution_count": 66,
   "metadata": {},
   "outputs": [
    {
     "ename": "ZeroDivisionError",
     "evalue": "inverse of Mod(2, 65536) does not exist",
     "output_type": "error",
     "traceback": [
      "\u001b[0;31m---------------------------------------------------------------------------\u001b[0m",
      "\u001b[0;31mZeroDivisionError\u001b[0m                         Traceback (most recent call last)",
      "Cell \u001b[0;32mIn [66], line 1\u001b[0m\n\u001b[0;32m----> 1\u001b[0m \u001b[43mLangrange\u001b[49m\u001b[43m(\u001b[49m\u001b[43m[\u001b[49m\u001b[43mInteger\u001b[49m\u001b[43m(\u001b[49m\u001b[38;5;241;43m1\u001b[39;49m\u001b[43m)\u001b[49m\u001b[43m,\u001b[49m\u001b[43mInteger\u001b[49m\u001b[43m(\u001b[49m\u001b[38;5;241;43m2\u001b[39;49m\u001b[43m)\u001b[49m\u001b[43m,\u001b[49m\u001b[43mInteger\u001b[49m\u001b[43m(\u001b[49m\u001b[38;5;241;43m3\u001b[39;49m\u001b[43m)\u001b[49m\u001b[43m]\u001b[49m\u001b[43m,\u001b[49m\u001b[43m \u001b[49m\u001b[43m[\u001b[49m\u001b[43mInteger\u001b[49m\u001b[43m(\u001b[49m\u001b[38;5;241;43m0\u001b[39;49m\u001b[43m)\u001b[49m\u001b[43m]\u001b[49m\u001b[43m,\u001b[49m\u001b[43m \u001b[49m\u001b[43mring\u001b[49m\u001b[38;5;241;43m=\u001b[39;49m\u001b[43mU16\u001b[49m\u001b[43m)\u001b[49m\n",
      "Cell \u001b[0;32mIn [65], line 16\u001b[0m, in \u001b[0;36mLangrange\u001b[0;34m(xas, xbs, ring)\u001b[0m\n\u001b[1;32m     14\u001b[0m             p \u001b[38;5;241m*\u001b[39m\u001b[38;5;241m=\u001b[39m (xbs[i] \u001b[38;5;241m-\u001b[39m xas[k])\n\u001b[1;32m     15\u001b[0m             q \u001b[38;5;241m*\u001b[39m\u001b[38;5;241m=\u001b[39m (xas[j] \u001b[38;5;241m-\u001b[39m xas[k])\n\u001b[0;32m---> 16\u001b[0m         M[i,j] \u001b[38;5;241m=\u001b[39m \u001b[43mp\u001b[49m\u001b[43m \u001b[49m\u001b[38;5;241;43m/\u001b[39;49m\u001b[43m \u001b[49m\u001b[43mq\u001b[49m\n\u001b[1;32m     17\u001b[0m \u001b[38;5;28;01mreturn\u001b[39;00m M\n",
      "File \u001b[0;32m/private/var/tmp/sage-10.2-current/local/var/lib/sage/venv-python3.11.1/lib/python3.11/site-packages/sage/structure/element.pyx:1737\u001b[0m, in \u001b[0;36msage.structure.element.Element.__truediv__ (build/cythonized/sage/structure/element.c:21070)\u001b[0;34m()\u001b[0m\n\u001b[1;32m   1735\u001b[0m cdef int cl = classify_elements(left, right)\n\u001b[1;32m   1736\u001b[0m if HAVE_SAME_PARENT(cl):\n\u001b[0;32m-> 1737\u001b[0m     return (<Element>left)._div_(right)\n\u001b[1;32m   1738\u001b[0m if BOTH_ARE_ELEMENT(cl):\n\u001b[1;32m   1739\u001b[0m     return coercion_model.bin_op(left, right, truediv)\n",
      "File \u001b[0;32m/private/var/tmp/sage-10.2-current/local/var/lib/sage/venv-python3.11.1/lib/python3.11/site-packages/sage/rings/finite_rings/integer_mod.pyx:3474\u001b[0m, in \u001b[0;36msage.rings.finite_rings.integer_mod.IntegerMod_int64._div_ (build/cythonized/sage/rings/finite_rings/integer_mod.c:46664)\u001b[0;34m()\u001b[0m\n\u001b[1;32m   3472\u001b[0m     33334\n\u001b[1;32m   3473\u001b[0m \"\"\"\n\u001b[0;32m-> 3474\u001b[0m return self._new_c((self.ivalue * mod_inverse_int64((<IntegerMod_int64>right).ivalue,\n\u001b[1;32m   3475\u001b[0m                            self._modulus.int64) ) % self._modulus.int64)\n\u001b[1;32m   3476\u001b[0m \n",
      "File \u001b[0;32m/private/var/tmp/sage-10.2-current/local/var/lib/sage/venv-python3.11.1/lib/python3.11/site-packages/sage/rings/finite_rings/integer_mod.pyx:3820\u001b[0m, in \u001b[0;36msage.rings.finite_rings.integer_mod.mod_inverse_int64 (build/cythonized/sage/rings/finite_rings/integer_mod.c:48999)\u001b[0;34m()\u001b[0m\n\u001b[1;32m   3818\u001b[0m     t = next_t\n\u001b[1;32m   3819\u001b[0m     next_t = last_t - q * t\n\u001b[0;32m-> 3820\u001b[0m raise ZeroDivisionError(f\"inverse of Mod({x}, {n}) does not exist\")\n\u001b[1;32m   3821\u001b[0m \n\u001b[1;32m   3822\u001b[0m \n",
      "\u001b[0;31mZeroDivisionError\u001b[0m: inverse of Mod(2, 65536) does not exist"
     ]
    }
   ],
   "source": [
    "Langrange([1,2,3], [0], ring=U16)a"
   ]
  },
  {
   "cell_type": "code",
   "execution_count": null,
   "metadata": {},
   "outputs": [],
   "source": [
    "def langarange(xs, xa, xb):\n",
    "    for "
   ]
  }
 ],
 "metadata": {
  "kernelspec": {
   "display_name": "SageMath 10.2",
   "language": "sage",
   "name": "SageMath-10.2"
  },
  "language_info": {
   "codemirror_mode": {
    "name": "ipython",
    "version": 3
   },
   "file_extension": ".py",
   "mimetype": "text/x-python",
   "name": "python",
   "nbconvert_exporter": "python",
   "pygments_lexer": "ipython3",
   "version": "3.11.1"
  }
 },
 "nbformat": 4,
 "nbformat_minor": 2
}
